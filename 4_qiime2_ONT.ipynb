{
 "cells": [
  {
   "cell_type": "code",
   "execution_count": null,
   "id": "4d2cb32a-66f0-4f69-9842-df74e62c71d2",
   "metadata": {},
   "outputs": [],
   "source": [
    "# qiime2 activation"
   ]
  },
  {
   "cell_type": "code",
   "execution_count": null,
   "id": "5fc0099a-15de-4426-b219-e6be988966e4",
   "metadata": {},
   "outputs": [],
   "source": [
    "source activate qiime2-2020.6"
   ]
  },
  {
   "cell_type": "code",
   "execution_count": null,
   "id": "db3dc50f-133c-481f-b961-b97370c70ac3",
   "metadata": {},
   "outputs": [],
   "source": [
    "##############\n",
    "# for bacteria\n",
    "cd ./16S_ONT_1400_1600_q10/\n",
    "\n",
    "qiime tools import \\\n",
    "--input-path ./seqtable_mangrove_bact_ONT.fa \\\n",
    "--type 'FeatureData[Sequence]' \\\n",
    "--output-path ./rep-seqs_mangrove_bact_ONT.qza\n",
    "\n",
    "##############\n",
    "# for archaea\n",
    "cd ./arch_ONT_900_1100_q10/\n",
    "\n",
    "qiime tools import \\\n",
    "--input-path ./seqtable_mangrove_arch_ONT.fa \\\n",
    "--type 'FeatureData[Sequence]' \\\n",
    "--output-path ./rep-seqs_mangrove_arch_ONT.qza"
   ]
  },
  {
   "cell_type": "code",
   "execution_count": null,
   "id": "d8508afd-d323-41b1-8f03-7119b2064f6b",
   "metadata": {},
   "outputs": [],
   "source": [
    "biom convert -i ./16S_ONT_1400_1600_q10/seqtable_mangrove_bact_ONT.txt -o ./16S_ONT_1400_1600_q10/table_mangrove_bact_ONT_final.biom --table-type=\"OTU table\" --to-hdf5\n",
    "biom convert -i ./arch_ONT_900_1100_q10/seqtable_mangrove_arch_ONT.txt -o ./arch_ONT_900_1100_q10/table_mangrove_arch_ONT_final.biom --table-type=\"OTU table\" --to-hdf5\n",
    "\n",
    "qiime tools import \\\n",
    "--input-path ./16S_ONT_1400_1600_q10/table_mangrove_bact_ONT_final.biom \\\n",
    "--type 'FeatureTable[Frequency]' \\\n",
    "--output-path ./16S_ONT_1400_1600_q10/table_mangrove_bact_ONT_final.qza\n",
    "\n",
    "qiime tools import \\\n",
    "--input-path ./arch_ONT_900_1100_q10//table_mangrove_arch_ONT_final.biom \\\n",
    "--type 'FeatureTable[Frequency]' \\\n",
    "--output-path ./arch_ONT_900_1100_q10//table_mangrove_arch_ONT_final.qza"
   ]
  },
  {
   "cell_type": "code",
   "execution_count": null,
   "id": "8ba75287-df5b-4f80-9ec2-6f6acb38fa05",
   "metadata": {},
   "outputs": [],
   "source": [
    "# Make 97% consensus sequences (OTU) from ASVs"
   ]
  },
  {
   "cell_type": "code",
   "execution_count": null,
   "id": "7a238bfe-4c24-4607-afcc-aa9fd68bd659",
   "metadata": {},
   "outputs": [],
   "source": [
    "##############\n",
    "# for bacteria\n",
    "cd ./16S_ONT_1400_1600_q10/\n",
    "qiime vsearch cluster-features-de-novo \\\n",
    "  --i-table table_mangrove_bact_ONT_final.qza \\\n",
    "  --i-sequences rep-seqs_mangrove_bact_ONT.qza \\\n",
    "  --p-perc-identity 0.97 \\\n",
    "  --p-threads 32 \\\n",
    "  --o-clustered-table table-97_mangrove_bact_ONT_final.qza \\\n",
    "  --o-clustered-sequences rep-seqs-97_mangrove_bact_ONT_final.qza\n",
    "\n",
    "##############\n",
    "# for archaea\n",
    "cd ./arch_ONT_900_1100_q10/\n",
    "qiime vsearch cluster-features-de-novo \\\n",
    "  --i-table table_mangrove_arch_ONT_final.qza \\\n",
    "  --i-sequences rep-seqs_mangrove_arch_ONT.qza \\\n",
    "  --p-perc-identity 0.97 \\\n",
    "  --p-threads 32 \\\n",
    "  --o-clustered-table table-97_mangrove_arch_ONT_final.qza \\\n",
    "  --o-clustered-sequences rep-seqs-97_mangrove_arch_ONT_final.qza"
   ]
  },
  {
   "cell_type": "code",
   "execution_count": null,
   "id": "2cf7dcb7-7336-4b9e-a5a7-494de5ac815c",
   "metadata": {},
   "outputs": [],
   "source": [
    "# Export OTU tables"
   ]
  },
  {
   "cell_type": "code",
   "execution_count": null,
   "id": "dcf87bb1-c92c-4f12-8af5-eca115ce62df",
   "metadata": {},
   "outputs": [],
   "source": [
    "##############\n",
    "# for bacteria\n",
    "cd ./16S_ONT_1400_1600_q10/\n",
    "qiime tools export \\\n",
    "    --input-path table-97_mangrove_bact_ONT_final.qza \\\n",
    "    --output-path ./\n",
    "    \n",
    "biom convert \\\n",
    "    -i ./feature-table.biom \\\n",
    "    -o ./feature-table-97_mangrove_bact_ONT_final.tsv --to-tsv\n",
    "\n",
    "##############\n",
    "# for archaea\n",
    "cd ./arch_ONT_900_1100_q10/\n",
    "qiime tools export \\\n",
    "    --input-path table-97_mangrove_arch_ONT_final.qza \\\n",
    "    --output-path ./\n",
    "    \n",
    "biom convert \\\n",
    "    -i ./feature-table.biom \\\n",
    "    -o ./feature-table-97_mangrove_arch_ONT_final.tsv --to-tsv\n",
    "\n",
    "\n",
    "# open the .tsv file with LibreOffice or Excel, select abundances, then Edition > Find and replace,\n",
    "# Seek for ^[0-9] and replace it by & (tick \"regular expressions\")"
   ]
  },
  {
   "cell_type": "code",
   "execution_count": null,
   "id": "c3dca840-be5a-48b5-ad89-00485d0d684c",
   "metadata": {},
   "outputs": [],
   "source": [
    "# Taxonomic assignation of 16SV4V5 sequences with the database SILVA 138.1-ssu-nr99 fitted to the approriate markers\n",
    "# classifier must have been prepared before, see https://docs.qiime2.org/2023.5/tutorials/feature-classifier/\n",
    "##############\n",
    "# for bacteria\n",
    "cd ./16S_ONT_1400_1600_q10/\n",
    "qiime feature-classifier classify-sklearn \\\n",
    "   --i-reads ./rep-seqs-97_mangrove_bact_ONT_final.qza\\\n",
    "   --i-classifier ./silva-138.1-ssu-nr99-full16S-classifier.qza \\\n",
    "   --p-n-jobs -1 \\\n",
    "   --output-dir ./Assignation\n",
    "\n",
    "# export in .biom format\n",
    "qiime tools export \\\n",
    "    --input-path ./OTU-bact-taxo/classification.qza \\\n",
    "    --output-path ./OTU-bact-taxo\n",
    "\n",
    "##############\n",
    "# for archaea\n",
    "cd ./arch_ONT_900_1100_q10/\n",
    "qiime feature-classifier classify-sklearn \\\n",
    "   --i-reads ./rep-seqs-97_mangrove_arch_ONT_final.qza\\\n",
    "   --i-classifier ./silva-138.1-ssu-nr99-full16S-classifier.qza \\\n",
    "   --p-n-jobs -1 \\\n",
    "   --output-dir ./Assignation\n",
    "\n",
    "# export in .biom format\n",
    "qiime tools export \\\n",
    "    --input-path ./OTU-arch-taxo/classification.qza \\\n",
    "    --output-path ./OTU-arch-taxo"
   ]
  },
  {
   "cell_type": "code",
   "execution_count": null,
   "id": "96397076-fc2f-4ceb-b0a1-6c73ed771d82",
   "metadata": {},
   "outputs": [],
   "source": [
    "# Then have been created for each domain :\n",
    "# - an OTU table at 3% (sequences and read abundances after quality filters) [feature-table-97_mangrove_bact_ONT_final.tsv]\n",
    "# - a table with OTU taxonomical assignations [taxonomy.tsv]\n",
    "\n",
    "# User shall then merge them, strictly keeping the order of the lines."
   ]
  }
 ],
 "metadata": {
  "kernelspec": {
   "display_name": "Bash",
   "language": "bash",
   "name": "bash"
  },
  "language_info": {
   "codemirror_mode": "shell",
   "file_extension": ".sh",
   "mimetype": "text/x-sh",
   "name": "bash"
  }
 },
 "nbformat": 4,
 "nbformat_minor": 5
}
