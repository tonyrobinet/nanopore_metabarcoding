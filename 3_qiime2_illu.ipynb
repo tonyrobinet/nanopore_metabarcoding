{
 "cells": [
  {
   "cell_type": "code",
   "execution_count": null,
   "id": "8cdc04d5-6bc9-4031-a584-5e33d5caddb1",
   "metadata": {},
   "outputs": [],
   "source": [
    "# qiime2 activation"
   ]
  },
  {
   "cell_type": "code",
   "execution_count": null,
   "id": "98491559-566c-4288-87f7-9479f1ff0f59",
   "metadata": {},
   "outputs": [],
   "source": [
    "source activate qiime2-2020.6"
   ]
  },
  {
   "cell_type": "code",
   "execution_count": null,
   "id": "2198983e-d5da-491a-aa92-27c20089c521",
   "metadata": {},
   "outputs": [],
   "source": [
    "# For Illumina, 16SV4V5 sequences are merged with 18SV9 and ITS2 sequences in the same fastq files\n",
    "# Extraction of 16SV4V5 sequences will be performed first"
   ]
  },
  {
   "cell_type": "code",
   "execution_count": null,
   "id": "0b5f78ea-a4a9-4661-8f55-a1d3dcf50a58",
   "metadata": {},
   "outputs": [],
   "source": [
    "# Importation of dada2 ASV table with abundances in qiime2 artefact format"
   ]
  },
  {
   "cell_type": "code",
   "execution_count": null,
   "id": "e40abf2e-9b3b-48a6-a7b4-1dc327ddcf72",
   "metadata": {},
   "outputs": [],
   "source": [
    "cd ./illumina_mangroves_intrasites_final\n",
    "mkdir ./qiime2\n",
    "\n",
    "qiime tools import \\\n",
    "--input-path ./dada2/seqtabnochim_mangrove_16S_18S_ITS.fna \\\n",
    "--type 'FeatureData[Sequence]' \\\n",
    "--output-path ./qiime2/rep-seqs_mangrove_16S_18S_ITS.qza"
   ]
  },
  {
   "cell_type": "code",
   "execution_count": null,
   "id": "c393f37f-28ff-4634-8394-9a8324cb67a0",
   "metadata": {},
   "outputs": [],
   "source": [
    "biom convert -i ./dada2/seqtabnochim_mangrove_16S_18S_ITS.txt -o ./qiime2/table_mangrove_16s_18s_its_final.biom --table-type=\"OTU table\" --to-hdf5\n",
    "\n",
    "qiime tools import \\\n",
    "--input-path ./qiime2/table_mangrove_16s_18s_its_final.biom \\\n",
    "--type 'FeatureTable[Frequency]' \\\n",
    "--output-path ./qiime2/table_mangrove_16s_18s_its_final.qza"
   ]
  },
  {
   "cell_type": "code",
   "execution_count": null,
   "id": "a053ee9a-bd86-4e3a-8867-b3d1f761f9f2",
   "metadata": {},
   "outputs": [],
   "source": [
    "######################\n",
    "# extraction 16SV4\n",
    "\n",
    "cd ./qiime2\n",
    "\n",
    "qiime feature-classifier extract-reads \\\n",
    "  --i-sequences ./rep-seqs_mangrove_16S_18S_ITS.qza \\\n",
    "  --p-f-primer GTGYCAGCMGCCGCGGTAA \\\n",
    "  --p-r-primer CCGYCAATTYMTTTRAGTTT\\\n",
    "  --p-identity 0.5 \\ # flexible identity rate because of the several degenerated nucleotides in markers\n",
    "  --p-n-jobs 32 \\\n",
    "  --o-reads /home/tony/alice/qiime2/rep-seqs_mangrove_16sV4.qza \\\n",
    "\n",
    "qiime feature-table filter-features \\\n",
    "  --i-table ./table_mangrove_16s_18s_its_final.qza  \\\n",
    "  --m-metadata-file ./rep-seqs_mangrove_16sV4.qza \\\n",
    "  --o-filtered-table ./table_mangrove_16sV4.qza"
   ]
  },
  {
   "cell_type": "code",
   "execution_count": null,
   "id": "54192c14-39db-4af7-bba1-b8a42936efc2",
   "metadata": {},
   "outputs": [],
   "source": [
    "# Make 97% consensus sequences (OTU) from ASVs"
   ]
  },
  {
   "cell_type": "code",
   "execution_count": null,
   "id": "25bc0fce-4c78-441c-856a-733ec1964672",
   "metadata": {},
   "outputs": [],
   "source": [
    "# for 16SV4V5\n",
    "qiime vsearch cluster-features-de-novo \\\n",
    "  --i-table table_mangrove_16sV4.qza \\\n",
    "  --i-sequences rep-seqs_mangrove_16sV4.qza \\\n",
    "  --p-perc-identity 0.97 \\\n",
    "  --p-threads 32 \\\n",
    "  --o-clustered-table table-97_mangrove-16S_final.qza \\\n",
    "  --o-clustered-sequences rep-seqs-97_Mangrove-16S_final.qza"
   ]
  },
  {
   "cell_type": "code",
   "execution_count": 5,
   "id": "ec9426c9-192f-446b-b542-1c0baf1c9ea0",
   "metadata": {
    "tags": []
   },
   "outputs": [],
   "source": [
    "# Export OTU table"
   ]
  },
  {
   "cell_type": "code",
   "execution_count": null,
   "id": "0910117b-0adb-4196-8a1c-53827ba6f379",
   "metadata": {},
   "outputs": [],
   "source": [
    "qiime tools export \\\n",
    "    --input-path table-97_mangrove-16S_final.qza \\\n",
    "    --output-path ./\n",
    "    \n",
    "biom convert \\\n",
    "    -i ./feature-table.biom \\\n",
    "    -o ./feature-table-97_mangrove-16S_final.tsv --to-tsv\n",
    "\n",
    "# open the .tsv file with LibreOffice or Excel, select abundances, then Edition > Find and replace,\n",
    "# Seek for ^[0-9] and replace it by & (tick \"regular expressions\")"
   ]
  },
  {
   "cell_type": "code",
   "execution_count": null,
   "id": "e572fb14-231f-495d-9025-21a430c9c06b",
   "metadata": {},
   "outputs": [],
   "source": [
    "# Taxonomic assignation of 16SV4V5 sequences with the database SILVA 138.1-ssu-nr99 fitted to the approriate markers 515f-926r\n",
    "# classifier must have been prepared before, see https://docs.qiime2.org/2023.5/tutorials/feature-classifier/\n",
    "\n",
    "qiime feature-classifier classify-sklearn \\\n",
    "   --i-reads ./rep-seqs-97_Mangrove-18S_final.qza\\\n",
    "   --i-classifier /media/tony/DATA2/tax/SILVA_MANGROVE/Illumina/silva-138.1-ssu-nr99-515f926r-classifier.qza \\\n",
    "   --p-n-jobs -1 \\\n",
    "   --output-dir /home/tony/alice/Assignation\n",
    "\n",
    "# export in .biom format\n",
    "qiime tools export \\\n",
    "    --input-path ./OTU-16S-taxo/classification.qza \\\n",
    "    --output-path ./OTU-16S-taxo"
   ]
  },
  {
   "cell_type": "code",
   "execution_count": 7,
   "id": "612ed692-3db6-40b9-9a79-df318f6c4af6",
   "metadata": {
    "tags": []
   },
   "outputs": [],
   "source": [
    "# Then have been created :\n",
    "# - an OTU table at 3% (sequences and read abundances after quality filters) [feature-table-97_mangrove-16S_final.tsv]\n",
    "# - a table with OTU taxonomical assignations [taxonomy.tsv]\n",
    "\n",
    "# User shall then merge them, strictly keeping the order of the lines."
   ]
  }
 ],
 "metadata": {
  "kernelspec": {
   "display_name": "Bash",
   "language": "bash",
   "name": "bash"
  },
  "language_info": {
   "codemirror_mode": "shell",
   "file_extension": ".sh",
   "mimetype": "text/x-sh",
   "name": "bash"
  }
 },
 "nbformat": 4,
 "nbformat_minor": 5
}
